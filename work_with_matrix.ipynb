{
 "cells": [
  {
   "cell_type": "code",
   "execution_count": 21,
   "metadata": {},
   "outputs": [],
   "source": [
    "%%capture\n",
    "##! pip install graphviz\n",
    "#! pip install pyspssio\n",
    "#! pip install networkx[default]"
   ]
  },
  {
   "cell_type": "code",
   "execution_count": 22,
   "metadata": {},
   "outputs": [],
   "source": [
    "import time\n",
    "import random\n",
    "import numpy as np\n",
    "import pandas as pd\n",
    "import matplotlib\n",
    "import matplotlib.pyplot as plt\n",
    "import seaborn as sns\n",
    "from scipy import stats\n",
    "import pyspssio\n",
    "import re\n",
    "import networkx as nx\n",
    "\n",
    "sns.set_palette(\"pastel\")\n",
    "sns.set_theme(style=\"whitegrid\", palette=\"pastel\", context=\"notebook\")"
   ]
  },
  {
   "cell_type": "code",
   "execution_count": 23,
   "metadata": {},
   "outputs": [],
   "source": [
    "df_dh, meta_dh = pyspssio.read_sav(\"29-я волна_репрезентативная выборка_SPSS/ДОМОХОЗЯЙСТВА/r29h_os_71.sav\")\n",
    "df_ind, meta_ind = pyspssio.read_sav(\"29-я волна_репрезентативная выборка_SPSS/ИНДИВИДЫ/r29i_os_73.sav\")"
   ]
  },
  {
   "cell_type": "code",
   "execution_count": 24,
   "metadata": {},
   "outputs": [],
   "source": [
    "#кто проходил опросник, сколько человек в семье\n",
    "#надо наверное сделать класс\n",
    "def family_meta_info(seriya, max_chlenov_dh=20):\n",
    "    who_pass_form = seriya['ya8']\n",
    "    family_members_num = seriya['y_nfm']\n",
    "    return who_pass_form, family_members_num"
   ]
  },
  {
   "cell_type": "code",
   "execution_count": 25,
   "metadata": {},
   "outputs": [],
   "source": [
    "def create_nodes(seriya, max_chlenov_dh=20):\n",
    "    nodes = []\n",
    "    for num_chlen in range(1, max_chlenov_dh+1):\n",
    "        #if (pd.notna(seriya[f'yb{num_chlen}.1'])) & (seriya[f'yb{num_chlen}.2.1']==1):\n",
    "        if (seriya[f'yb{num_chlen}.2.1']==1):\n",
    "            ind_number = seriya[f'yidind{num_chlen}']\n",
    "            \n",
    "            pol_value = seriya[f'yb{num_chlen}.4']\n",
    "            pol = None if pd.isna(pol_value) else ('male' if pol_value==1 else 'female' if pol_value==2 else None)\n",
    "            \n",
    "            birth_year_value = seriya[f'yb{num_chlen}.5']\n",
    "            birth_year = None if pd.isna(birth_year_value) else birth_year_value\n",
    "            \n",
    "            node = (\n",
    "                num_chlen,\n",
    "                {\n",
    "                'ind_number': ind_number, #'Индивидуальный номер 1-го члена семьи'\n",
    "                'pol': pol, #'Какого пола этот человек?',\n",
    "                'birth_year': birth_year, #'В каком году (он/она) родились?'\n",
    "                }\n",
    "            )\n",
    "            nodes.append(node)\n",
    "        \n",
    "    return nodes"
   ]
  },
  {
   "cell_type": "code",
   "execution_count": null,
   "metadata": {},
   "outputs": [],
   "source": []
  },
  {
   "cell_type": "code",
   "execution_count": null,
   "metadata": {},
   "outputs": [],
   "source": [
    "# у меня тут изменяются узлы и связи на месте, а не возвращаются\n",
    "def add_info_from_ind_for_nodes(nodes, df_ind):\n",
    "    #еще вариант: функция возвращает update_itm\n",
    "    for node in nodes:\n",
    "        update_items = {\n",
    "            'is_adult': True,\n",
    "            'is_sozhit': False,\n",
    "            #nation,\n",
    "            #profession,\n",
    "            #obrazovaniye\n",
    "        }\n",
    "        if node[1]['ind_number'] in df_ind['idind'].tolist():\n",
    "            seriya_ind = df_ind.loc[(df_ind['idind']==node[1]['ind_number'])].squeeze()\n",
    "            \n",
    "            is_adult_value = seriya_ind['y_child'] #те, кому не исполнилось 14 лет\n",
    "            is_adult = False if is_adult_value==1 else True\n",
    "            update_items['is_adult'] = is_adult\n",
    "            \n",
    "            is_sozhit_value = seriya_ind['y_marst']\n",
    "            is_sozhit = True if is_sozhit_value==3 else False\n",
    "            update_items['is_sozhit'] = is_sozhit\n",
    "\n",
    "        node[1].update(update_items)"
   ]
  },
  {
   "cell_type": "code",
   "execution_count": 27,
   "metadata": {},
   "outputs": [],
   "source": [
    "def who_lives_here(nodes, structured=True):\n",
    "    if structured:\n",
    "        nodes_num = [node[0] for node in nodes]\n",
    "    else:\n",
    "        nodes_num = nodes        \n",
    "    return nodes_num"
   ]
  },
  {
   "cell_type": "code",
   "execution_count": 28,
   "metadata": {},
   "outputs": [],
   "source": [
    "def create_base_edges(relationship_matrix):\n",
    "    connection_names = {\n",
    "        1: 'suprug',\n",
    "        2: 'blood_ditya',\n",
    "        3: 'priyem_ditya'\n",
    "    }\n",
    "    edges = []\n",
    "    for node_kuda_num in relationship_matrix.index:\n",
    "        for node_otkuda_num in relationship_matrix.columns:\n",
    "            if node_kuda_num>node_otkuda_num:\n",
    "                edge_type = relationship_matrix.loc[node_kuda_num, node_otkuda_num]\n",
    "                if edge_type in [1, 2, 3, 4, 5]:\n",
    "                    if edge_type == 4:\n",
    "                        node_otkuda, node_kuda = node_otkuda_num, node_kuda_num\n",
    "                        edge_type = 2\n",
    "                    elif edge_type == 5:\n",
    "                        node_otkuda, node_kuda = node_otkuda_num, node_kuda_num\n",
    "                        edge_type = 3\n",
    "                    else:\n",
    "                        node_kuda, node_otkuda = node_otkuda_num, node_kuda_num\n",
    "                        if edge_type==1:\n",
    "                            edges.append((node_kuda, node_otkuda, {'edge_type': connection_names[edge_type]}))  \n",
    "                    edge = (\n",
    "                        node_otkuda,\n",
    "                        node_kuda,\n",
    "                        {\n",
    "                            'edge_type': connection_names[edge_type], #'Кем 2-ой член семьи приходится 1-му члену семьи?'\n",
    "                        }\n",
    "                    ) \n",
    "                    edges.append(edge)\n",
    "                    \n",
    "    return edges"
   ]
  },
  {
   "cell_type": "code",
   "execution_count": 29,
   "metadata": {},
   "outputs": [],
   "source": [
    "def add_extended_edges(relationship_matrix, edges):\n",
    "    for node_kuda_num in relationship_matrix.index:\n",
    "        for node_otkuda_num in relationship_matrix.columns:\n",
    "            if node_kuda_num>node_otkuda_num:\n",
    "                edge_type = relationship_matrix.loc[node_kuda_num, node_otkuda_num]\n",
    "                if edge_type in [8, 9]:    \n",
    "                    if edge_type == 9:\n",
    "                        node_otkuda, node_kuda = node_otkuda_num, node_kuda_num\n",
    "                        edge_type = 8\n",
    "                    elif edge_type == 8:\n",
    "                        node_otkuda, node_kuda = node_kuda_num, node_otkuda_num\n",
    "                    \n",
    "                    relevant_edges_1 = [e for e in edges if (e[0]==node_otkuda and e[2]['edge_type']!='blood_ditya')]\n",
    "                    relevant_edges_2 = [e for e in edges if (e[0]==node_otkuda and e[2]['edge_type']!='priyem_ditya')]\n",
    "                    relevant_edges = relevant_edges_1 + relevant_edges_2\n",
    "                    if len(relevant_edges)==0:\n",
    "                        edge = (\n",
    "                            node_otkuda,\n",
    "                            node_kuda,\n",
    "                            {\n",
    "                                'edge_type': 'vnuk', #'Кем 2-ой член семьи приходится 1-му члену семьи?'\n",
    "                            }\n",
    "                        ) \n",
    "                        edges.append(edge)"
   ]
  },
  {
   "cell_type": "code",
   "execution_count": 30,
   "metadata": {},
   "outputs": [],
   "source": [
    "def change_brak_to_sozhit(nodes, edges):\n",
    "    for edge in edges:\n",
    "        ind_1_num = edge[0]\n",
    "        ind_2_num = edge[1]\n",
    "\n",
    "        ind_1 = [node for node in nodes if node[0]==ind_1_num][0]\n",
    "        ind_2 = [node for node in nodes if node[0]==ind_2_num][0]\n",
    "\n",
    "        if ((edge[2]['edge_type'] == 'suprug') or (edge[2]['edge_type'] == 'sozhitel')) and ((ind_1[1]['is_sozhit']==True ) or (ind_2[1]['is_sozhit']==True)):\n",
    "            edge[2]['edge_type'] = 'sozhitel'"
   ]
  },
  {
   "cell_type": "code",
   "execution_count": 31,
   "metadata": {},
   "outputs": [],
   "source": [
    "def create_graph(nodes, edges):\n",
    "    graph = nx.DiGraph()\n",
    "    \n",
    "    graph.add_nodes_from(nodes)\n",
    "    graph.add_edges_from(edges)\n",
    "    \n",
    "    return graph"
   ]
  },
  {
   "cell_type": "code",
   "execution_count": 32,
   "metadata": {},
   "outputs": [],
   "source": [
    "#113 - с прабабушкой без бабушки\n",
    "#4567 ничего не вывело ((( - 1 член в дх, но о нем нет инфы\n",
    "#4652 ничего не вывело\n",
    "#1309 - интересная семья: 9 детей, практически все погодки"
   ]
  },
  {
   "cell_type": "code",
   "execution_count": null,
   "metadata": {},
   "outputs": [],
   "source": []
  },
  {
   "cell_type": "code",
   "execution_count": null,
   "metadata": {},
   "outputs": [],
   "source": []
  },
  {
   "cell_type": "code",
   "execution_count": 33,
   "metadata": {},
   "outputs": [],
   "source": [
    "def create_relationship_matrix_scratch(seriya, who_pass_form, max_members=20):\n",
    "    \n",
    "    all_nodes = set()\n",
    "    all_nodes.add(int(who_pass_form))\n",
    "    # Создаем пустую матрицу размером max_members x max_members\n",
    "    matrix = np.full((max_members+1, max_members+1), '', dtype=object)\n",
    "    \n",
    "    for node_kuda_num in range(1, max_members+1):\n",
    "        for node_otkuda_num in range(1, node_kuda_num):\n",
    "            if node_kuda_num<=16 and node_otkuda_num>=10:\n",
    "                edge_type = seriya[f'yb{node_kuda_num}9.{node_otkuda_num}']\n",
    "            elif node_kuda_num>=17 and node_otkuda_num>=10:\n",
    "                edge_type = seriya[f'yb{node_kuda_num}.9{node_otkuda_num}']\n",
    "            else:\n",
    "                edge_type = seriya[f'yb{node_kuda_num}.9.{node_otkuda_num}']\n",
    "            if not pd.isna(edge_type):\n",
    "                matrix[node_kuda_num, node_otkuda_num] = int(edge_type)  # связь кем i приходтися j\n",
    "                all_nodes.add(node_otkuda_num)\n",
    "                all_nodes.add(node_kuda_num)\n",
    "    list_nodes = sorted(list(all_nodes))\n",
    "    # Преобразуем матрицу в DataFrame для удобства\n",
    "    matrix_df = pd.DataFrame(matrix,\n",
    "                             columns=[i for i in range(max_members+1)],\n",
    "                             index=[i for i in range(max_members+1)]).loc[list_nodes, list_nodes]\n",
    "    #print(list_nodes)\n",
    "    return matrix_df"
   ]
  },
  {
   "cell_type": "code",
   "execution_count": 34,
   "metadata": {},
   "outputs": [],
   "source": [
    "def change_brak_to_sozhit(nodes, edges):\n",
    "    for edge in edges:\n",
    "        ind_1_num = edge[0]\n",
    "        ind_2_num = edge[1]\n",
    "\n",
    "        for node in nodes:\n",
    "            if node[0]==ind_1_num:\n",
    "                ind_1 = node\n",
    "            elif node[0]==ind_2_num:\n",
    "                ind_2 = node\n",
    "        if ((edge[2]['edge_type'] == 'suprug') or (edge[2]['edge_type'] == 'sozhitel')) and ((ind_1[1]['is_sozhit']==True ) or (ind_2[1]['is_sozhit']==True)):\n",
    "            edge[2]['edge_type'] = 'sozhitel'"
   ]
  },
  {
   "cell_type": "code",
   "execution_count": 35,
   "metadata": {},
   "outputs": [],
   "source": [
    "#for family_num in [random.randint(0, 4829) for ii in range(49)]:\n",
    "for family_num in range(1, 2):\n",
    "    #print(family_num)\n",
    "    family_num = 52\n",
    "    \n",
    "    dh_seriya = df_dh.iloc[family_num]\n",
    "\n",
    "    who_pass_form, family_members_num = family_meta_info(dh_seriya)\n",
    "\n",
    "    nodes = create_nodes(dh_seriya)\n",
    "    #if len(nodes)!=0:\n",
    "    nodes_num = who_lives_here(nodes)\n",
    "\n",
    "    add_info_from_ind_for_nodes(nodes, df_ind)\n",
    "\n",
    "    relationship_matrix = create_relationship_matrix_scratch(dh_seriya, who_pass_form)\n",
    "    \n",
    "    edges = create_base_edges(relationship_matrix)\n",
    "    #print(nodes)\n",
    "    #print(edges)\n",
    "    add_extended_edges(relationship_matrix, edges)\n",
    "\n",
    "    change_brak_to_sozhit(nodes, edges)"
   ]
  },
  {
   "cell_type": "code",
   "execution_count": 36,
   "metadata": {},
   "outputs": [
    {
     "data": {
      "text/plain": [
       "[(1, 2, {'edge_type': 'blood_ditya'}),\n",
       " (3, 1, {'edge_type': 'blood_ditya'}),\n",
       " (1, 5, {'edge_type': 'blood_ditya'}),\n",
       " (1, 6, {'edge_type': 'suprug'}),\n",
       " (6, 1, {'edge_type': 'suprug'}),\n",
       " (6, 2, {'edge_type': 'priyem_ditya'}),\n",
       " (6, 5, {'edge_type': 'priyem_ditya'})]"
      ]
     },
     "execution_count": 36,
     "metadata": {},
     "output_type": "execute_result"
    }
   ],
   "source": [
    "edges"
   ]
  },
  {
   "cell_type": "code",
   "execution_count": 37,
   "metadata": {},
   "outputs": [
    {
     "data": {
      "text/html": [
       "<div>\n",
       "<style scoped>\n",
       "    .dataframe tbody tr th:only-of-type {\n",
       "        vertical-align: middle;\n",
       "    }\n",
       "\n",
       "    .dataframe tbody tr th {\n",
       "        vertical-align: top;\n",
       "    }\n",
       "\n",
       "    .dataframe thead th {\n",
       "        text-align: right;\n",
       "    }\n",
       "</style>\n",
       "<table border=\"1\" class=\"dataframe\">\n",
       "  <thead>\n",
       "    <tr style=\"text-align: right;\">\n",
       "      <th></th>\n",
       "      <th>1</th>\n",
       "      <th>2</th>\n",
       "      <th>3</th>\n",
       "      <th>5</th>\n",
       "      <th>6</th>\n",
       "    </tr>\n",
       "  </thead>\n",
       "  <tbody>\n",
       "    <tr>\n",
       "      <th>1</th>\n",
       "      <td></td>\n",
       "      <td></td>\n",
       "      <td></td>\n",
       "      <td></td>\n",
       "      <td></td>\n",
       "    </tr>\n",
       "    <tr>\n",
       "      <th>2</th>\n",
       "      <td>4</td>\n",
       "      <td></td>\n",
       "      <td></td>\n",
       "      <td></td>\n",
       "      <td></td>\n",
       "    </tr>\n",
       "    <tr>\n",
       "      <th>3</th>\n",
       "      <td>2</td>\n",
       "      <td>8</td>\n",
       "      <td></td>\n",
       "      <td></td>\n",
       "      <td></td>\n",
       "    </tr>\n",
       "    <tr>\n",
       "      <th>5</th>\n",
       "      <td>4</td>\n",
       "      <td>6</td>\n",
       "      <td>9</td>\n",
       "      <td></td>\n",
       "      <td></td>\n",
       "    </tr>\n",
       "    <tr>\n",
       "      <th>6</th>\n",
       "      <td>1</td>\n",
       "      <td>3</td>\n",
       "      <td>12</td>\n",
       "      <td>3</td>\n",
       "      <td></td>\n",
       "    </tr>\n",
       "  </tbody>\n",
       "</table>\n",
       "</div>"
      ],
      "text/plain": [
       "   1  2   3  5 6\n",
       "1               \n",
       "2  4            \n",
       "3  2  8         \n",
       "5  4  6   9     \n",
       "6  1  3  12  3  "
      ]
     },
     "execution_count": 37,
     "metadata": {},
     "output_type": "execute_result"
    }
   ],
   "source": [
    "relationship_matrix"
   ]
  },
  {
   "cell_type": "code",
   "execution_count": 38,
   "metadata": {},
   "outputs": [
    {
     "data": {
      "text/plain": [
       "[(1,\n",
       "  {'ind_number': 25141.0,\n",
       "   'pol': 'female',\n",
       "   'birth_year': 1976.0,\n",
       "   'is_adult': True,\n",
       "   'is_sozhit': False}),\n",
       " (2,\n",
       "  {'ind_number': 25142.0,\n",
       "   'pol': 'male',\n",
       "   'birth_year': 1996.0,\n",
       "   'is_adult': True,\n",
       "   'is_sozhit': False}),\n",
       " (3,\n",
       "  {'ind_number': 25143.0,\n",
       "   'pol': 'female',\n",
       "   'birth_year': 1946.0,\n",
       "   'is_adult': True,\n",
       "   'is_sozhit': False}),\n",
       " (5,\n",
       "  {'ind_number': 40583.0,\n",
       "   'pol': 'female',\n",
       "   'birth_year': 2011.0,\n",
       "   'is_adult': False,\n",
       "   'is_sozhit': False})]"
      ]
     },
     "execution_count": 38,
     "metadata": {},
     "output_type": "execute_result"
    }
   ],
   "source": [
    "nodes"
   ]
  },
  {
   "cell_type": "code",
   "execution_count": 39,
   "metadata": {},
   "outputs": [
    {
     "data": {
      "text/plain": [
       "5.0"
      ]
     },
     "execution_count": 39,
     "metadata": {},
     "output_type": "execute_result"
    }
   ],
   "source": [
    "family_members_num"
   ]
  },
  {
   "cell_type": "code",
   "execution_count": null,
   "metadata": {},
   "outputs": [],
   "source": []
  },
  {
   "cell_type": "code",
   "execution_count": null,
   "metadata": {},
   "outputs": [],
   "source": []
  },
  {
   "cell_type": "code",
   "execution_count": null,
   "metadata": {},
   "outputs": [],
   "source": []
  },
  {
   "cell_type": "code",
   "execution_count": null,
   "metadata": {},
   "outputs": [],
   "source": []
  },
  {
   "cell_type": "code",
   "execution_count": 43,
   "metadata": {},
   "outputs": [
    {
     "name": "stdout",
     "output_type": "stream",
     "text": [
      "Число поколений в семье: 3\n"
     ]
    }
   ],
   "source": [
    "import networkx as nx\n",
    "\n",
    "def count_generations(G):\n",
    "    # Находим корневые узлы (те, у кого нет родителей)\n",
    "    parents = {v for u, v, d in G.edges(data=True) if d['edge_type'] in ['blood_ditya', 'priyem_ditya']}\n",
    "    root_nodes = [node for node in G.nodes if node not in parents]\n",
    "\n",
    "    # Функция для вычисления максимальной глубины\n",
    "    def dfs(node, depth):\n",
    "        if node not in G:  # если узел не в графе\n",
    "            return depth\n",
    "        children = [v for u, v, d in G.out_edges(node, data=True) if d['edge_type'] in ['blood_ditya', 'priyem_ditya']]\n",
    "        if not children:  # если нет детей, это конец пути\n",
    "            return depth\n",
    "        return max(dfs(child, depth + 1) for child in children)\n",
    "\n",
    "    # Вычисляем глубину дерева от каждого корневого узла\n",
    "    max_depth = max(dfs(root, 1) for root in root_nodes) if root_nodes else 0\n",
    "    return max_depth\n",
    "\n",
    "# Создание графа\n",
    "graph = create_graph(nodes, edges)\n",
    "# Вычисляем число поколений\n",
    "generations = count_generations(graph)\n",
    "print(f\"Число поколений в семье: {generations}\")"
   ]
  },
  {
   "cell_type": "code",
   "execution_count": 45,
   "metadata": {},
   "outputs": [
    {
     "name": "stdout",
     "output_type": "stream",
     "text": [
      "Количество детей в семье: 1\n"
     ]
    }
   ],
   "source": [
    "spouse = None\n",
    "for u, v, d in graph.edges(data=True):\n",
    "    if u == who_pass_form and d['edge_type'] == 'suprug':\n",
    "        spouse = v\n",
    "        break\n",
    "    elif v == who_pass_form and d['edge_type'] == 'suprug':\n",
    "        spouse = u\n",
    "        break\n",
    "\n",
    "# Ищем детей (родных и приемных) от респондента и его супруга\n",
    "children = set()\n",
    "for u, v, d in graph.edges(data=True):\n",
    "    if u == who_pass_form and 'ditya' in d['edge_type']:\n",
    "        children.add(v)\n",
    "    if spouse and u == spouse and 'ditya' in d['edge_type']:\n",
    "        children.add(v)\n",
    "\n",
    "print(f\"Количество детей в семье: {len(children)}\")"
   ]
  },
  {
   "cell_type": "code",
   "execution_count": 42,
   "metadata": {},
   "outputs": [
    {
     "data": {
      "image/png": "[encoded data removed]",
      "text/plain": [
       "<Figure size 640x480 with 1 Axes>"
      ]
     },
     "metadata": {},
     "output_type": "display_data"
    }
   ],
   "source": [
    "nx.draw(create_graph(nodes, edges))"
   ]
  },
  {
   "cell_type": "code",
   "execution_count": null,
   "metadata": {},
   "outputs": [],
   "source": []
  }
 ],
 "metadata": {
  "kernelspec": {
   "display_name": "base",
   "language": "python",
   "name": "python3"
  },
  "language_info": {
   "codemirror_mode": {
    "name": "ipython",
    "version": 3
   },
   "file_extension": ".py",
   "mimetype": "text/x-python",
   "name": "python",
   "nbconvert_exporter": "python",
   "pygments_lexer": "ipython3",
   "version": "3.12.4"
  }
 },
 "nbformat": 4,
 "nbformat_minor": 2
}
