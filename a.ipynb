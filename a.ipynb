{
 "cells": [
  {
   "cell_type": "code",
   "execution_count": 45,
   "metadata": {},
   "outputs": [],
   "source": [
    "%%capture\n",
    "##! pip install graphviz\n",
    "#! pip install pyspssio\n",
    "#! pip install networkx[default]"
   ]
  },
  {
   "cell_type": "code",
   "execution_count": 46,
   "metadata": {},
   "outputs": [],
   "source": [
    "import time\n",
    "import random\n",
    "import numpy as np\n",
    "import pandas as pd\n",
    "import matplotlib\n",
    "import matplotlib.pyplot as plt\n",
    "import seaborn as sns\n",
    "from scipy import stats\n",
    "import pyspssio\n",
    "import re\n",
    "import networkx as nx\n",
    "\n",
    "sns.set_palette(\"pastel\")\n",
    "sns.set_theme(style=\"whitegrid\", palette=\"pastel\", context=\"notebook\")\n",
    "\n",
    "df, meta = pyspssio.read_sav(\"29-я волна_репрезентативная выборка_SPSS/ДОМОХОЗЯЙСТВА/r29h_os_71.sav\")"
   ]
  },
  {
   "cell_type": "code",
   "execution_count": 47,
   "metadata": {},
   "outputs": [
    {
     "name": "stdout",
     "output_type": "stream",
     "text": [
      "df.shape=(4830, 1031)\n"
     ]
    },
    {
     "data": {
      "text/html": [
       "<div>\n",
       "<style scoped>\n",
       "    .dataframe tbody tr th:only-of-type {\n",
       "        vertical-align: middle;\n",
       "    }\n",
       "\n",
       "    .dataframe tbody tr th {\n",
       "        vertical-align: top;\n",
       "    }\n",
       "\n",
       "    .dataframe thead th {\n",
       "        text-align: right;\n",
       "    }\n",
       "</style>\n",
       "<table border=\"1\" class=\"dataframe\">\n",
       "  <thead>\n",
       "    <tr style=\"text-align: right;\">\n",
       "      <th></th>\n",
       "      <th>yredid_h</th>\n",
       "      <th>yid_h</th>\n",
       "      <th>xid_h</th>\n",
       "      <th>wid_h</th>\n",
       "      <th>vid_h</th>\n",
       "      <th>uid_h</th>\n",
       "      <th>tid_h</th>\n",
       "      <th>sid_h</th>\n",
       "      <th>rid_h</th>\n",
       "      <th>qid_h</th>\n",
       "      <th>...</th>\n",
       "      <th>yf14.12</th>\n",
       "      <th>yf14.13</th>\n",
       "      <th>yf14.14</th>\n",
       "      <th>yf14.15</th>\n",
       "      <th>yf14</th>\n",
       "      <th>yf16.1</th>\n",
       "      <th>yf16.2</th>\n",
       "      <th>yf16.3</th>\n",
       "      <th>yf16.4</th>\n",
       "      <th>yf16.5</th>\n",
       "    </tr>\n",
       "  </thead>\n",
       "  <tbody>\n",
       "    <tr>\n",
       "      <th>0</th>\n",
       "      <td>1017.0</td>\n",
       "      <td>10003.0</td>\n",
       "      <td>10003.0</td>\n",
       "      <td>10003.0</td>\n",
       "      <td>10003.0</td>\n",
       "      <td>10003.0</td>\n",
       "      <td>10003.0</td>\n",
       "      <td>10003.0</td>\n",
       "      <td>10003.0</td>\n",
       "      <td>10003.0</td>\n",
       "      <td>...</td>\n",
       "      <td>2.0</td>\n",
       "      <td>NaN</td>\n",
       "      <td>2.0</td>\n",
       "      <td>NaN</td>\n",
       "      <td>17376.0</td>\n",
       "      <td>2.0</td>\n",
       "      <td>99999996.0</td>\n",
       "      <td>2.0</td>\n",
       "      <td>2.0</td>\n",
       "      <td>99999996.0</td>\n",
       "    </tr>\n",
       "    <tr>\n",
       "      <th>1</th>\n",
       "      <td>1018.0</td>\n",
       "      <td>10004.0</td>\n",
       "      <td>10004.0</td>\n",
       "      <td>NaN</td>\n",
       "      <td>10004.0</td>\n",
       "      <td>10004.0</td>\n",
       "      <td>10004.0</td>\n",
       "      <td>10004.0</td>\n",
       "      <td>10004.0</td>\n",
       "      <td>10004.0</td>\n",
       "      <td>...</td>\n",
       "      <td>2.0</td>\n",
       "      <td>NaN</td>\n",
       "      <td>2.0</td>\n",
       "      <td>NaN</td>\n",
       "      <td>37500.0</td>\n",
       "      <td>2.0</td>\n",
       "      <td>99999996.0</td>\n",
       "      <td>99999996.0</td>\n",
       "      <td>2.0</td>\n",
       "      <td>1.0</td>\n",
       "    </tr>\n",
       "    <tr>\n",
       "      <th>2</th>\n",
       "      <td>1020.0</td>\n",
       "      <td>10012.0</td>\n",
       "      <td>10012.0</td>\n",
       "      <td>10012.0</td>\n",
       "      <td>10012.0</td>\n",
       "      <td>10012.0</td>\n",
       "      <td>10012.0</td>\n",
       "      <td>10012.0</td>\n",
       "      <td>10012.0</td>\n",
       "      <td>10012.0</td>\n",
       "      <td>...</td>\n",
       "      <td>2.0</td>\n",
       "      <td>NaN</td>\n",
       "      <td>2.0</td>\n",
       "      <td>NaN</td>\n",
       "      <td>19700.0</td>\n",
       "      <td>99999996.0</td>\n",
       "      <td>99999996.0</td>\n",
       "      <td>99999996.0</td>\n",
       "      <td>2.0</td>\n",
       "      <td>1.0</td>\n",
       "    </tr>\n",
       "  </tbody>\n",
       "</table>\n",
       "<p>3 rows × 1031 columns</p>\n",
       "</div>"
      ],
      "text/plain": [
       "   yredid_h    yid_h    xid_h    wid_h    vid_h    uid_h    tid_h    sid_h  \\\n",
       "0    1017.0  10003.0  10003.0  10003.0  10003.0  10003.0  10003.0  10003.0   \n",
       "1    1018.0  10004.0  10004.0      NaN  10004.0  10004.0  10004.0  10004.0   \n",
       "2    1020.0  10012.0  10012.0  10012.0  10012.0  10012.0  10012.0  10012.0   \n",
       "\n",
       "     rid_h    qid_h  ...  yf14.12  yf14.13  yf14.14  yf14.15     yf14  \\\n",
       "0  10003.0  10003.0  ...      2.0      NaN      2.0      NaN  17376.0   \n",
       "1  10004.0  10004.0  ...      2.0      NaN      2.0      NaN  37500.0   \n",
       "2  10012.0  10012.0  ...      2.0      NaN      2.0      NaN  19700.0   \n",
       "\n",
       "       yf16.1      yf16.2      yf16.3  yf16.4      yf16.5  \n",
       "0         2.0  99999996.0         2.0     2.0  99999996.0  \n",
       "1         2.0  99999996.0  99999996.0     2.0         1.0  \n",
       "2  99999996.0  99999996.0  99999996.0     2.0         1.0  \n",
       "\n",
       "[3 rows x 1031 columns]"
      ]
     },
     "execution_count": 47,
     "metadata": {},
     "output_type": "execute_result"
    }
   ],
   "source": [
    "print(f'{df.shape=}')\n",
    "df.head(3)"
   ]
  },
  {
   "cell_type": "code",
   "execution_count": 48,
   "metadata": {},
   "outputs": [
    {
     "data": {
      "text/plain": [
       "dict_keys(['file_attributes', 'encoding', 'case_count', 'case_weight_var', 'mrsets', 'var_names', 'var_types', 'var_formats', 'var_formats_tuple', 'var_labels', 'var_alignments', 'var_column_widths', 'var_measure_levels', 'var_roles', 'var_missing_values', 'var_value_labels', 'var_attributes', 'var_compat_names'])"
      ]
     },
     "execution_count": 48,
     "metadata": {},
     "output_type": "execute_result"
    }
   ],
   "source": [
    "meta.keys()"
   ]
  },
  {
   "cell_type": "code",
   "execution_count": 49,
   "metadata": {},
   "outputs": [
    {
     "data": {
      "text/plain": [
       "y_nfm\n",
       "2.0     1469\n",
       "1.0     1307\n",
       "3.0      907\n",
       "4.0      643\n",
       "5.0      277\n",
       "6.0      120\n",
       "7.0       46\n",
       "8.0       25\n",
       "9.0       18\n",
       "10.0      10\n",
       "11.0       6\n",
       "16.0       1\n",
       "14.0       1\n",
       "Name: count, dtype: int64"
      ]
     },
     "execution_count": 49,
     "metadata": {},
     "output_type": "execute_result"
    }
   ],
   "source": [
    "df['y_nfm'].value_counts()"
   ]
  },
  {
   "cell_type": "code",
   "execution_count": null,
   "metadata": {},
   "outputs": [],
   "source": []
  },
  {
   "cell_type": "code",
   "execution_count": null,
   "metadata": {},
   "outputs": [],
   "source": []
  },
  {
   "cell_type": "code",
   "execution_count": null,
   "metadata": {},
   "outputs": [],
   "source": []
  },
  {
   "cell_type": "markdown",
   "metadata": {},
   "source": [
    "ЭЭЭЭЭЭКСПЕРИМЕНТЫ"
   ]
  },
  {
   "cell_type": "code",
   "execution_count": 50,
   "metadata": {},
   "outputs": [],
   "source": [
    "def create_nodes(seriya, max_chlenov_dh=20):\n",
    "    nodes = []\n",
    "    for num_chlen in range(1, max_chlenov_dh+1):\n",
    "        if (pd.notna(seriya[f'yb{num_chlen}.1'])) & (seriya[f'yb{num_chlen}.2.1']==1):\n",
    "            \n",
    "            ind_number = seriya[f'yidind{num_chlen}']\n",
    "            \n",
    "            pol_value = seriya[f'yb{num_chlen}.4']\n",
    "            pol = None if pd.isna(pol_value) else ('male' if pol_value==1 else 'female' if pol_value==2 else None)\n",
    "            \n",
    "            birth_year_value = seriya[f'yb{num_chlen}.5']\n",
    "            birth_year = None if pd.isna(birth_year_value) else birth_year_value\n",
    "            \n",
    "            node = (\n",
    "                num_chlen,\n",
    "                {\n",
    "                'ind_number': ind_number, #'Индивидуальный номер 1-го члена семьи'\n",
    "                'pol': pol, #'Какого пола этот человек?',\n",
    "                'birth_year': birth_year, #'В каком году (он/она) родились?'\n",
    "                }\n",
    "            )\n",
    "            nodes.append(node)\n",
    "        \n",
    "    return nodes"
   ]
  },
  {
   "cell_type": "code",
   "execution_count": 51,
   "metadata": {},
   "outputs": [],
   "source": [
    "def create_edges(seriya, nodes_num, max_chlenov_dh=20):\n",
    "    connection_names = {\n",
    "        1: 'suprug',\n",
    "        2: 'blood_ditya',\n",
    "        3: 'priyem_ditya'\n",
    "    }\n",
    "    edges = []\n",
    "    for node_otkuda_num in range(1, max_chlenov_dh+1):\n",
    "        for node_kuda_num in range(1, node_otkuda_num):\n",
    "            if node_otkuda_num in nodes_num and node_kuda_num in nodes_num:\n",
    "                if node_otkuda_num<=16 and node_kuda_num>=10:\n",
    "                    edge_type = seriya[f'yb{node_otkuda_num}9.{node_kuda_num}']\n",
    "                elif node_otkuda_num>=17 and node_kuda_num>=10:\n",
    "                    edge_type = seriya[f'yb{node_otkuda_num}.9{node_kuda_num}']\n",
    "                else:\n",
    "                    edge_type = seriya[f'yb{node_otkuda_num}.9.{node_kuda_num}']\n",
    "                \n",
    "                if edge_type in [1, 2, 3, 4, 5]:\n",
    "                    if edge_type == 4:\n",
    "                        node_otkuda, node_kuda = node_kuda_num, node_otkuda_num\n",
    "                        edge_type = 2\n",
    "                    elif edge_type == 5:\n",
    "                        node_otkuda, node_kuda = node_kuda_num, node_otkuda_num\n",
    "                        edge_type = 3\n",
    "                    else:\n",
    "                        node_otkuda, node_kuda = node_otkuda_num, node_kuda_num\n",
    "                        if edge_type==1:\n",
    "                            edges.append((node_kuda, node_otkuda, {'edge_type': connection_names[edge_type]}))\n",
    "\n",
    "                    edge = (\n",
    "                        node_otkuda,\n",
    "                        node_kuda,\n",
    "                        {\n",
    "                            'edge_type': connection_names[edge_type], #'Кем 2-ой член семьи приходится 1-му члену семьи?'\n",
    "                        }\n",
    "                    ) \n",
    "                    edges.append(edge)\n",
    "            \n",
    "    return edges"
   ]
  },
  {
   "cell_type": "code",
   "execution_count": 52,
   "metadata": {},
   "outputs": [
    {
     "name": "stdout",
     "output_type": "stream",
     "text": [
      "[2, 8, 12]\n"
     ]
    }
   ],
   "source": [
    "problems = [31, 140, 213, 399]\n",
    "seriya = df.iloc[problems[0]]\n",
    "nodes = create_nodes(seriya)\n",
    "nodes_num = [node[0] for node in nodes]\n",
    "print(nodes_num)\n",
    "edges = create_edges(seriya, nodes_num)\n"
   ]
  },
  {
   "cell_type": "code",
   "execution_count": 53,
   "metadata": {},
   "outputs": [],
   "source": [
    "def baboushka_edges(seriya, nodes_num, edges, max_chlenov_dh=20):\n",
    "    extended_edges = []\n",
    "    for node_otkuda_num in range(1, max_chlenov_dh+1):\n",
    "        for node_kuda_num in range(1, node_otkuda_num):\n",
    "            if node_otkuda_num in nodes_num and node_kuda_num in nodes_num:\n",
    "                if node_otkuda_num<=16 and node_kuda_num>=10:\n",
    "                    edge_type = seriya[f'yb{node_otkuda_num}9.{node_kuda_num}']\n",
    "                elif node_otkuda_num>=17 and node_kuda_num>=10:\n",
    "                    edge_type = seriya[f'yb{node_otkuda_num}.9{node_kuda_num}']\n",
    "                else:\n",
    "                    edge_type = seriya[f'yb{node_otkuda_num}.9.{node_kuda_num}']\n",
    "                    \n",
    "                if edge_type in [8, 9]:    \n",
    "                    if edge_type == 9:\n",
    "                        node_otkuda, node_kuda = node_kuda_num, node_otkuda_num\n",
    "                        edge_type = 8\n",
    "                    elif edge_type == 8:\n",
    "                        node_otkuda, node_kuda = node_otkuda_num, node_kuda_num\n",
    "                    \n",
    "                    relevant_edges = [e for e in edges if (e[0]==node_otkuda and e[2]['edge_type']!='blood_ditya')]\n",
    "                    if len(relevant_edges)==0:\n",
    "                        edge = (\n",
    "                            node_otkuda,\n",
    "                            node_kuda,\n",
    "                            {\n",
    "                                'edge_type': 'vnuk', #'Кем 2-ой член семьи приходится 1-му члену семьи?'\n",
    "                            }\n",
    "                        ) \n",
    "                        extended_edges.append(edge)\n",
    "                                \n",
    "    return extended_edges"
   ]
  },
  {
   "cell_type": "code",
   "execution_count": 54,
   "metadata": {},
   "outputs": [],
   "source": [
    "def form_graph(seriya, max_chlenov_dh=20):\n",
    "    graph = nx.DiGraph()\n",
    "    \n",
    "    nodes = create_nodes(seriya, max_chlenov_dh)\n",
    "    graph.add_nodes_from(nodes)\n",
    "    \n",
    "    nodes_num = [node[0] for node in nodes]\n",
    "    edges = create_edges(seriya, nodes_num=nodes_num, max_chlenov_dh=max_chlenov_dh)\n",
    "    \n",
    "    extended_edges = baboushka_edges(seriya, nodes_num, edges, max_chlenov_dh=20)\n",
    "    \n",
    "    all_edges = edges + extended_edges\n",
    "    \n",
    "    graph.add_edges_from(all_edges)\n",
    "    return graph"
   ]
  },
  {
   "cell_type": "code",
   "execution_count": 55,
   "metadata": {},
   "outputs": [],
   "source": [
    "#кто проходил опросник, сколько человек в семье\n",
    "#надо наверное сделать класс\n",
    "def family_meta_info(seriya, max_chlenov_dh=20):\n",
    "    who_pass_form = seriya['ya8']\n",
    "    family_members_num = seriya['y_nfm']\n",
    "    return who_pass_form, family_members_num"
   ]
  },
  {
   "cell_type": "code",
   "execution_count": 56,
   "metadata": {},
   "outputs": [
    {
     "data": {
      "text/plain": [
       "[(2, {'ind_number': 141.0, 'pol': 'female', 'birth_year': 1937.0}),\n",
       " (8, {'ind_number': 16281.0, 'pol': 'female', 'birth_year': 1999.0}),\n",
       " (12, {'ind_number': 57092.0, 'pol': 'male', 'birth_year': 2016.0})]"
      ]
     },
     "execution_count": 56,
     "metadata": {},
     "output_type": "execute_result"
    }
   ],
   "source": [
    "nodes"
   ]
  },
  {
   "cell_type": "code",
   "execution_count": 57,
   "metadata": {},
   "outputs": [
    {
     "data": {
      "text/plain": [
       "[(8, 12, {'edge_type': 'blood_ditya'})]"
      ]
     },
     "execution_count": 57,
     "metadata": {},
     "output_type": "execute_result"
    }
   ],
   "source": [
    "edges"
   ]
  },
  {
   "cell_type": "code",
   "execution_count": 58,
   "metadata": {},
   "outputs": [
    {
     "data": {
      "image/png": "[encoded data removed]",
      "text/plain": [
       "<Figure size 640x480 with 1 Axes>"
      ]
     },
     "metadata": {},
     "output_type": "display_data"
    }
   ],
   "source": [
    "for family_num in [random.randint(0, 4829) for ii in range(1)]:\n",
    "\n",
    "    seriya = df.iloc[family_num]\n",
    "\n",
    "    who_pass_form, family_members_num = family_meta_info(seriya)\n",
    "\n",
    "    nodes = create_nodes(seriya)\n",
    "    nodes_num = [node[0] for node in nodes]\n",
    "\n",
    "    edges = create_edges(seriya, nodes_num=nodes_num)\n",
    "\n",
    "    extended_edges = baboushka_edges(seriya, nodes_num, edges, max_chlenov_dh=20)\n",
    "\n",
    "    all_edges = edges + extended_edges\n",
    "\n",
    "    graph = form_graph(seriya)\n",
    "\n",
    "    nx.draw(form_graph(seriya))\n",
    "    \n",
    "    #time.sleep(2)"
   ]
  },
  {
   "cell_type": "code",
   "execution_count": 59,
   "metadata": {},
   "outputs": [],
   "source": [
    "def who_lives_here(nodes, structured=True):\n",
    "    if structured:\n",
    "        nodes_num = [node[0] for node in nodes]\n",
    "    else:\n",
    "        nodes_num = nodes        \n",
    "    return nodes_num"
   ]
  },
  {
   "cell_type": "code",
   "execution_count": 60,
   "metadata": {},
   "outputs": [
    {
     "data": {
      "text/plain": [
       "[1, 2, 3, 4]"
      ]
     },
     "execution_count": 60,
     "metadata": {},
     "output_type": "execute_result"
    }
   ],
   "source": [
    "nodes_num"
   ]
  },
  {
   "cell_type": "code",
   "execution_count": 61,
   "metadata": {},
   "outputs": [
    {
     "data": {
      "text/html": [
       "<div>\n",
       "<style scoped>\n",
       "    .dataframe tbody tr th:only-of-type {\n",
       "        vertical-align: middle;\n",
       "    }\n",
       "\n",
       "    .dataframe tbody tr th {\n",
       "        vertical-align: top;\n",
       "    }\n",
       "\n",
       "    .dataframe thead th {\n",
       "        text-align: right;\n",
       "    }\n",
       "</style>\n",
       "<table border=\"1\" class=\"dataframe\">\n",
       "  <thead>\n",
       "    <tr style=\"text-align: right;\">\n",
       "      <th></th>\n",
       "      <th>1</th>\n",
       "      <th>2</th>\n",
       "      <th>3</th>\n",
       "    </tr>\n",
       "  </thead>\n",
       "  <tbody>\n",
       "    <tr>\n",
       "      <th>2</th>\n",
       "      <td>1.0</td>\n",
       "      <td></td>\n",
       "      <td></td>\n",
       "    </tr>\n",
       "    <tr>\n",
       "      <th>3</th>\n",
       "      <td>4.0</td>\n",
       "      <td>4.0</td>\n",
       "      <td></td>\n",
       "    </tr>\n",
       "    <tr>\n",
       "      <th>4</th>\n",
       "      <td>4.0</td>\n",
       "      <td>4.0</td>\n",
       "      <td>6.0</td>\n",
       "    </tr>\n",
       "  </tbody>\n",
       "</table>\n",
       "</div>"
      ],
      "text/plain": [
       "     1    2    3\n",
       "2  1.0          \n",
       "3  4.0  4.0     \n",
       "4  4.0  4.0  6.0"
      ]
     },
     "execution_count": 61,
     "metadata": {},
     "output_type": "execute_result"
    }
   ],
   "source": [
    "def create_relationship_matrix(seriya, nodes_num, max_members=20):\n",
    "    # Создаем пустую матрицу размером max_members x max_members\n",
    "    matrix = np.full((max_members, max_members), '', dtype=object)\n",
    "    \n",
    "    for node_otkuda_num in range(1, max_members+1):\n",
    "        for node_kuda_num in range(1, node_otkuda_num):\n",
    "            if node_otkuda_num in nodes_num and node_kuda_num in nodes_num:\n",
    "                if node_otkuda_num<=16 and node_kuda_num>=10:\n",
    "                    edge_type = seriya[f'yb{node_otkuda_num}9.{node_kuda_num}']\n",
    "                elif node_otkuda_num>=17 and node_kuda_num>=10:\n",
    "                    edge_type = seriya[f'yb{node_otkuda_num}.9{node_kuda_num}']\n",
    "                else:\n",
    "                    edge_type = seriya[f'yb{node_otkuda_num}.9.{node_kuda_num}']\n",
    "                \n",
    "                if not pd.isna(edge_type):\n",
    "                    matrix[node_otkuda_num, node_kuda_num] = edge_type  # связь кем i приходтися j\n",
    "\n",
    "    # Преобразуем матрицу в DataFrame для удобства\n",
    "    matrix_df = pd.DataFrame(matrix, \n",
    "                             columns=[f'{i}' for i in range(max_members)],\n",
    "                             index=[f'{i}' for i in range(max_members)]).iloc[nodes_num[1:], nodes_num[0:len(nodes_num)-1]]\n",
    "\n",
    "    return matrix_df\n",
    "\n",
    "\n",
    "seriya = df.iloc[77]\n",
    "nodes = create_nodes(seriya)\n",
    "nodes_num = who_lives_here(nodes)\n",
    "# Генерируем матрицу связей\n",
    "relationship_matrix = create_relationship_matrix(seriya, nodes_num)\n",
    "relationship_matrix"
   ]
  },
  {
   "cell_type": "code",
   "execution_count": 62,
   "metadata": {},
   "outputs": [],
   "source": [
    "def base_edges(relationship_matrix):\n",
    "    connection_names = {\n",
    "        1: 'suprug',\n",
    "        2: 'blood_ditya',\n",
    "        3: 'priyem_ditya'\n",
    "    }\n",
    "    base_edges = []\n",
    "    for node_kuda_num in relationship_matrix.index:\n",
    "        for node_otkuda_num in relationship_matrix.columns:\n",
    "            if node_kuda_num>node_otkuda_num:\n",
    "                edge_type = relationship_matrix.loc[node_kuda_num, node_otkuda_num]\n",
    "                if edge_type in [1, 2, 3, 4, 5]:\n",
    "                    if edge_type == 4:\n",
    "                        node_otkuda, node_kuda = node_otkuda_num, node_kuda_num\n",
    "                        edge_type = 2\n",
    "                    elif edge_type == 5:\n",
    "                        node_otkuda, node_kuda = node_otkuda_num, node_kuda_num\n",
    "                        edge_type = 3\n",
    "                    else:\n",
    "                        node_kuda, node_otkuda = node_otkuda_num, node_kuda_num\n",
    "                        if edge_type==1:\n",
    "                            base_edges.append((node_kuda, node_otkuda, {'edge_type': connection_names[edge_type]}))  \n",
    "                    edge = (\n",
    "                        node_otkuda,\n",
    "                        node_kuda,\n",
    "                        {\n",
    "                            'edge_type': connection_names[edge_type], #'Кем 2-ой член семьи приходится 1-му члену семьи?'\n",
    "                        }\n",
    "                    ) \n",
    "                    base_edges.append(edge)\n",
    "                    \n",
    "    return base_edges"
   ]
  },
  {
   "cell_type": "code",
   "execution_count": 63,
   "metadata": {},
   "outputs": [
    {
     "data": {
      "text/plain": [
       "[('1', '2', {'edge_type': 'suprug'}),\n",
       " ('2', '1', {'edge_type': 'suprug'}),\n",
       " ('1', '3', {'edge_type': 'blood_ditya'}),\n",
       " ('2', '3', {'edge_type': 'blood_ditya'}),\n",
       " ('1', '4', {'edge_type': 'blood_ditya'}),\n",
       " ('2', '4', {'edge_type': 'blood_ditya'})]"
      ]
     },
     "execution_count": 63,
     "metadata": {},
     "output_type": "execute_result"
    }
   ],
   "source": [
    "base_edges(relationship_matrix)"
   ]
  },
  {
   "cell_type": "code",
   "execution_count": 64,
   "metadata": {},
   "outputs": [
    {
     "data": {
      "text/plain": [
       "[(1, {'ind_number': 32380.0, 'pol': 'female', 'birth_year': 1972.0}),\n",
       " (2, {'ind_number': 32381.0, 'pol': 'male', 'birth_year': 1972.0}),\n",
       " (3, {'ind_number': 32382.0, 'pol': 'male', 'birth_year': 1998.0}),\n",
       " (4, {'ind_number': 32383.0, 'pol': 'female', 'birth_year': 2002.0})]"
      ]
     },
     "execution_count": 64,
     "metadata": {},
     "output_type": "execute_result"
    }
   ],
   "source": [
    "nodes"
   ]
  },
  {
   "cell_type": "code",
   "execution_count": 65,
   "metadata": {},
   "outputs": [
    {
     "data": {
      "text/html": [
       "<div>\n",
       "<style scoped>\n",
       "    .dataframe tbody tr th:only-of-type {\n",
       "        vertical-align: middle;\n",
       "    }\n",
       "\n",
       "    .dataframe tbody tr th {\n",
       "        vertical-align: top;\n",
       "    }\n",
       "\n",
       "    .dataframe thead th {\n",
       "        text-align: right;\n",
       "    }\n",
       "</style>\n",
       "<table border=\"1\" class=\"dataframe\">\n",
       "  <thead>\n",
       "    <tr style=\"text-align: right;\">\n",
       "      <th></th>\n",
       "      <th>idind</th>\n",
       "      <th>yid_i</th>\n",
       "      <th>yredid_i</th>\n",
       "      <th>yid_h</th>\n",
       "      <th>xid_i</th>\n",
       "      <th>xid_h</th>\n",
       "      <th>wid_i</th>\n",
       "      <th>wid_h</th>\n",
       "      <th>vid_i</th>\n",
       "      <th>vid_h</th>\n",
       "      <th>...</th>\n",
       "      <th>ym191.6</th>\n",
       "      <th>ym111</th>\n",
       "      <th>ys1.1</th>\n",
       "      <th>ys1.2</th>\n",
       "      <th>ys2</th>\n",
       "      <th>ys3</th>\n",
       "      <th>ys4</th>\n",
       "      <th>ys5</th>\n",
       "      <th>ys6</th>\n",
       "      <th>ys7</th>\n",
       "    </tr>\n",
       "  </thead>\n",
       "  <tbody>\n",
       "    <tr>\n",
       "      <th>0</th>\n",
       "      <td>3.0</td>\n",
       "      <td>1001201.0</td>\n",
       "      <td>102001.0</td>\n",
       "      <td>10012.0</td>\n",
       "      <td>1001201.0</td>\n",
       "      <td>10012.0</td>\n",
       "      <td>1001201.0</td>\n",
       "      <td>10012.0</td>\n",
       "      <td>1001201.0</td>\n",
       "      <td>10012.0</td>\n",
       "      <td>...</td>\n",
       "      <td>NaN</td>\n",
       "      <td>NaN</td>\n",
       "      <td>NaN</td>\n",
       "      <td>NaN</td>\n",
       "      <td>NaN</td>\n",
       "      <td>NaN</td>\n",
       "      <td>NaN</td>\n",
       "      <td>NaN</td>\n",
       "      <td>NaN</td>\n",
       "      <td>NaN</td>\n",
       "    </tr>\n",
       "    <tr>\n",
       "      <th>1</th>\n",
       "      <td>7.0</td>\n",
       "      <td>1000301.0</td>\n",
       "      <td>101701.0</td>\n",
       "      <td>10003.0</td>\n",
       "      <td>1000301.0</td>\n",
       "      <td>10003.0</td>\n",
       "      <td>1000301.0</td>\n",
       "      <td>10003.0</td>\n",
       "      <td>1000301.0</td>\n",
       "      <td>10003.0</td>\n",
       "      <td>...</td>\n",
       "      <td>NaN</td>\n",
       "      <td>NaN</td>\n",
       "      <td>NaN</td>\n",
       "      <td>NaN</td>\n",
       "      <td>NaN</td>\n",
       "      <td>NaN</td>\n",
       "      <td>NaN</td>\n",
       "      <td>NaN</td>\n",
       "      <td>NaN</td>\n",
       "      <td>NaN</td>\n",
       "    </tr>\n",
       "    <tr>\n",
       "      <th>2</th>\n",
       "      <td>9.0</td>\n",
       "      <td>1000401.0</td>\n",
       "      <td>101801.0</td>\n",
       "      <td>10004.0</td>\n",
       "      <td>1000401.0</td>\n",
       "      <td>10004.0</td>\n",
       "      <td>NaN</td>\n",
       "      <td>NaN</td>\n",
       "      <td>1000401.0</td>\n",
       "      <td>10004.0</td>\n",
       "      <td>...</td>\n",
       "      <td>NaN</td>\n",
       "      <td>NaN</td>\n",
       "      <td>NaN</td>\n",
       "      <td>NaN</td>\n",
       "      <td>NaN</td>\n",
       "      <td>NaN</td>\n",
       "      <td>NaN</td>\n",
       "      <td>NaN</td>\n",
       "      <td>NaN</td>\n",
       "      <td>NaN</td>\n",
       "    </tr>\n",
       "    <tr>\n",
       "      <th>3</th>\n",
       "      <td>36.0</td>\n",
       "      <td>1002401.0</td>\n",
       "      <td>102601.0</td>\n",
       "      <td>10024.0</td>\n",
       "      <td>1002401.0</td>\n",
       "      <td>10024.0</td>\n",
       "      <td>1002401.0</td>\n",
       "      <td>10024.0</td>\n",
       "      <td>NaN</td>\n",
       "      <td>NaN</td>\n",
       "      <td>...</td>\n",
       "      <td>NaN</td>\n",
       "      <td>NaN</td>\n",
       "      <td>NaN</td>\n",
       "      <td>NaN</td>\n",
       "      <td>NaN</td>\n",
       "      <td>NaN</td>\n",
       "      <td>NaN</td>\n",
       "      <td>NaN</td>\n",
       "      <td>NaN</td>\n",
       "      <td>NaN</td>\n",
       "    </tr>\n",
       "    <tr>\n",
       "      <th>4</th>\n",
       "      <td>60.0</td>\n",
       "      <td>1004702.0</td>\n",
       "      <td>104002.0</td>\n",
       "      <td>10047.0</td>\n",
       "      <td>1004702.0</td>\n",
       "      <td>10047.0</td>\n",
       "      <td>1004702.0</td>\n",
       "      <td>10047.0</td>\n",
       "      <td>1004702.0</td>\n",
       "      <td>10047.0</td>\n",
       "      <td>...</td>\n",
       "      <td>NaN</td>\n",
       "      <td>NaN</td>\n",
       "      <td>NaN</td>\n",
       "      <td>NaN</td>\n",
       "      <td>NaN</td>\n",
       "      <td>NaN</td>\n",
       "      <td>NaN</td>\n",
       "      <td>NaN</td>\n",
       "      <td>NaN</td>\n",
       "      <td>NaN</td>\n",
       "    </tr>\n",
       "  </tbody>\n",
       "</table>\n",
       "<p>5 rows × 979 columns</p>\n",
       "</div>"
      ],
      "text/plain": [
       "   idind      yid_i  yredid_i    yid_h      xid_i    xid_h      wid_i  \\\n",
       "0    3.0  1001201.0  102001.0  10012.0  1001201.0  10012.0  1001201.0   \n",
       "1    7.0  1000301.0  101701.0  10003.0  1000301.0  10003.0  1000301.0   \n",
       "2    9.0  1000401.0  101801.0  10004.0  1000401.0  10004.0        NaN   \n",
       "3   36.0  1002401.0  102601.0  10024.0  1002401.0  10024.0  1002401.0   \n",
       "4   60.0  1004702.0  104002.0  10047.0  1004702.0  10047.0  1004702.0   \n",
       "\n",
       "     wid_h      vid_i    vid_h  ...  ym191.6  ym111  ys1.1  ys1.2  ys2  ys3  \\\n",
       "0  10012.0  1001201.0  10012.0  ...      NaN    NaN    NaN    NaN  NaN  NaN   \n",
       "1  10003.0  1000301.0  10003.0  ...      NaN    NaN    NaN    NaN  NaN  NaN   \n",
       "2      NaN  1000401.0  10004.0  ...      NaN    NaN    NaN    NaN  NaN  NaN   \n",
       "3  10024.0        NaN      NaN  ...      NaN    NaN    NaN    NaN  NaN  NaN   \n",
       "4  10047.0  1004702.0  10047.0  ...      NaN    NaN    NaN    NaN  NaN  NaN   \n",
       "\n",
       "   ys4  ys5  ys6  ys7  \n",
       "0  NaN  NaN  NaN  NaN  \n",
       "1  NaN  NaN  NaN  NaN  \n",
       "2  NaN  NaN  NaN  NaN  \n",
       "3  NaN  NaN  NaN  NaN  \n",
       "4  NaN  NaN  NaN  NaN  \n",
       "\n",
       "[5 rows x 979 columns]"
      ]
     },
     "execution_count": 65,
     "metadata": {},
     "output_type": "execute_result"
    }
   ],
   "source": [
    "df_ind, meta_ind = pyspssio.read_sav(\"29-я волна_репрезентативная выборка_SPSS/ИНДИВИДЫ/r29i_os_73.sav\")\n",
    "df_ind.head()"
   ]
  },
  {
   "cell_type": "code",
   "execution_count": 66,
   "metadata": {},
   "outputs": [
    {
     "data": {
      "text/html": [
       "<div>\n",
       "<style scoped>\n",
       "    .dataframe tbody tr th:only-of-type {\n",
       "        vertical-align: middle;\n",
       "    }\n",
       "\n",
       "    .dataframe tbody tr th {\n",
       "        vertical-align: top;\n",
       "    }\n",
       "\n",
       "    .dataframe thead th {\n",
       "        text-align: right;\n",
       "    }\n",
       "</style>\n",
       "<table border=\"1\" class=\"dataframe\">\n",
       "  <thead>\n",
       "    <tr style=\"text-align: right;\">\n",
       "      <th></th>\n",
       "      <th>idind</th>\n",
       "      <th>yid_i</th>\n",
       "      <th>yredid_i</th>\n",
       "      <th>yid_h</th>\n",
       "      <th>xid_i</th>\n",
       "      <th>xid_h</th>\n",
       "      <th>wid_i</th>\n",
       "      <th>wid_h</th>\n",
       "      <th>vid_i</th>\n",
       "      <th>vid_h</th>\n",
       "      <th>...</th>\n",
       "      <th>ym191.6</th>\n",
       "      <th>ym111</th>\n",
       "      <th>ys1.1</th>\n",
       "      <th>ys1.2</th>\n",
       "      <th>ys2</th>\n",
       "      <th>ys3</th>\n",
       "      <th>ys4</th>\n",
       "      <th>ys5</th>\n",
       "      <th>ys6</th>\n",
       "      <th>ys7</th>\n",
       "    </tr>\n",
       "  </thead>\n",
       "  <tbody>\n",
       "    <tr>\n",
       "      <th>4266</th>\n",
       "      <td>33750.0</td>\n",
       "      <td>39026201.0</td>\n",
       "      <td>445101.0</td>\n",
       "      <td>390262.0</td>\n",
       "      <td>39026201.0</td>\n",
       "      <td>390262.0</td>\n",
       "      <td>39026201.0</td>\n",
       "      <td>390262.0</td>\n",
       "      <td>39026201.0</td>\n",
       "      <td>390262.0</td>\n",
       "      <td>...</td>\n",
       "      <td>NaN</td>\n",
       "      <td>NaN</td>\n",
       "      <td>NaN</td>\n",
       "      <td>NaN</td>\n",
       "      <td>NaN</td>\n",
       "      <td>NaN</td>\n",
       "      <td>NaN</td>\n",
       "      <td>NaN</td>\n",
       "      <td>NaN</td>\n",
       "      <td>NaN</td>\n",
       "    </tr>\n",
       "  </tbody>\n",
       "</table>\n",
       "<p>1 rows × 979 columns</p>\n",
       "</div>"
      ],
      "text/plain": [
       "        idind       yid_i  yredid_i     yid_h       xid_i     xid_h  \\\n",
       "4266  33750.0  39026201.0  445101.0  390262.0  39026201.0  390262.0   \n",
       "\n",
       "           wid_i     wid_h       vid_i     vid_h  ...  ym191.6  ym111  ys1.1  \\\n",
       "4266  39026201.0  390262.0  39026201.0  390262.0  ...      NaN    NaN    NaN   \n",
       "\n",
       "      ys1.2  ys2  ys3  ys4  ys5  ys6  ys7  \n",
       "4266    NaN  NaN  NaN  NaN  NaN  NaN  NaN  \n",
       "\n",
       "[1 rows x 979 columns]"
      ]
     },
     "execution_count": 66,
     "metadata": {},
     "output_type": "execute_result"
    }
   ],
   "source": [
    "df_ind[df_ind['idind']==33750]"
   ]
  },
  {
   "cell_type": "code",
   "execution_count": 67,
   "metadata": {},
   "outputs": [],
   "source": [
    "seriya = df.iloc[777]\n",
    "nodes = create_nodes(seriya)\n",
    "nodes_num = who_lives_here(nodes)"
   ]
  },
  {
   "cell_type": "code",
   "execution_count": 68,
   "metadata": {},
   "outputs": [
    {
     "data": {
      "text/plain": [
       "2.0"
      ]
     },
     "execution_count": 68,
     "metadata": {},
     "output_type": "execute_result"
    }
   ],
   "source": [
    "i = 4\n",
    "id_ind_from_dh = nodes[i][1]['ind_number']\n",
    "seriya_ind = df_ind.loc[(df_ind['idind']==id_ind_from_dh)].squeeze()\n",
    "seriya_ind['y_marst']"
   ]
  },
  {
   "cell_type": "code",
   "execution_count": 69,
   "metadata": {},
   "outputs": [
    {
     "data": {
      "text/plain": [
       "3.0"
      ]
     },
     "execution_count": 69,
     "metadata": {},
     "output_type": "execute_result"
    }
   ],
   "source": [
    "58740.0\n",
    "df_ind.loc[(df_ind['idind']==58740.0)].squeeze()['y_marst']"
   ]
  },
  {
   "cell_type": "code",
   "execution_count": 70,
   "metadata": {},
   "outputs": [
    {
     "data": {
      "text/plain": [
       "[(1, {'ind_number': 33750.0, 'pol': 'male', 'birth_year': 1972.0}),\n",
       " (2, {'ind_number': 33751.0, 'pol': 'female', 'birth_year': 1976.0}),\n",
       " (3, {'ind_number': 33752.0, 'pol': 'female', 'birth_year': 1997.0}),\n",
       " (4, {'ind_number': 33753.0, 'pol': 'female', 'birth_year': 2003.0}),\n",
       " (5, {'ind_number': 50515.0, 'pol': 'male', 'birth_year': 1998.0}),\n",
       " (6, {'ind_number': 50516.0, 'pol': 'male', 'birth_year': 2014.0})]"
      ]
     },
     "execution_count": 70,
     "metadata": {},
     "output_type": "execute_result"
    }
   ],
   "source": [
    "nodes"
   ]
  },
  {
   "cell_type": "code",
   "execution_count": 71,
   "metadata": {},
   "outputs": [],
   "source": [
    "# получаем узлы и инфо про них из файла с дх\n",
    "# добавляем инфу, если есть, из файла индивидов\n",
    "# строим матрицу связей\n",
    "# строим первичный граф\n",
    "# заменяем супругов на сожителей при помощи инфы из файла индивидов\n",
    "# добавляем бабушек без детей в дх\n",
    "# граф готов, теперь можно применять всякие функции"
   ]
  },
  {
   "cell_type": "code",
   "execution_count": 72,
   "metadata": {},
   "outputs": [
    {
     "data": {
      "text/plain": [
       "(6, {'ind_number': 50516.0, 'pol': 'male', 'birth_year': 2014.0})"
      ]
     },
     "execution_count": 72,
     "metadata": {},
     "output_type": "execute_result"
    }
   ],
   "source": [
    "nodes[5]"
   ]
  },
  {
   "cell_type": "code",
   "execution_count": 80,
   "metadata": {},
   "outputs": [
    {
     "data": {
      "text/plain": [
       "[(1,\n",
       "  {'ind_number': 32528.0,\n",
       "   'pol': 'female',\n",
       "   'birth_year': 1953.0,\n",
       "   'is_adult': True,\n",
       "   'is_sozhit': False})]"
      ]
     },
     "execution_count": 80,
     "metadata": {},
     "output_type": "execute_result"
    }
   ],
   "source": [
    "nodes"
   ]
  },
  {
   "cell_type": "code",
   "execution_count": 79,
   "metadata": {},
   "outputs": [
    {
     "data": {
      "text/plain": [
       "[(1, {'is_adult': True, 'is_sozhit': False})]"
      ]
     },
     "execution_count": 79,
     "metadata": {},
     "output_type": "execute_result"
    }
   ],
   "source": [
    "info_from_ind_for_one_node(nodes, df_ind)"
   ]
  },
  {
   "cell_type": "code",
   "execution_count": 81,
   "metadata": {},
   "outputs": [],
   "source": [
    "# у меня тут изменяются узлы и связи на месте, а не возвращаются\n",
    "def info_from_ind_for_one_node(nodes, df_ind):\n",
    "    #еще вариант: функция возвращает update_itm\n",
    "    for node in nodes:\n",
    "        update_items = {\n",
    "            'is_adult': True,\n",
    "            'is_sozhit': False,\n",
    "            #nation,\n",
    "            #profession,\n",
    "            #obrazovaniye\n",
    "        }\n",
    "        if node[1]['ind_number'] in df_ind['idind'].tolist():\n",
    "            seriya_ind = df_ind.loc[(df_ind['idind']==node[1]['ind_number'])].squeeze()\n",
    "            \n",
    "            is_adult_value = seriya_ind['y_child']\n",
    "            is_adult = False if is_adult_value==1 else True\n",
    "            update_items['is_adult'] = is_adult\n",
    "            \n",
    "            is_sozhit_value = seriya_ind['y_marst']\n",
    "            is_sozhit = True if is_sozhit_value==3 else False\n",
    "            update_items['is_sozhit'] = is_sozhit\n",
    "\n",
    "            node[1].update(update_items)\n",
    "    \n",
    "    return nodes\n",
    "            \n",
    "        \n",
    "\n",
    "def change_brak_to_sozhit(nodes, edges):\n",
    "    edges_new = edges\n",
    "    for edge in edges:\n",
    "        ind_1_num = edge[0]\n",
    "        ind_2_num = edge[1]\n",
    "        ind_1 = [node for node in nodes if node[0]==ind_1_num][0]\n",
    "        ind_2 = [node for node in nodes if node[0]==ind_2_num][0]\n",
    "\n",
    "        if ((edge[2]['edge_type'] == 'suprug') or (edge[2]['edge_type'] == 'sozhitel')) and ((ind_1[1]['is_sozhit']==True ) or (ind_2[1]['is_sozhit']==True)):\n",
    "            edge[2]['edge_type'] = 'sozhitel'\n",
    "            \n",
    "    return edges_new"
   ]
  },
  {
   "cell_type": "code",
   "execution_count": null,
   "metadata": {},
   "outputs": [],
   "source": [
    "# у меня тут изменяются узлы и связи на месте, а не возвращаются\n",
    "def info_from_ind_for_one_node(nodes, df_ind):\n",
    "    #еще вариант: функция возвращает update_itm\n",
    "    info_from_ind = []\n",
    "    for node in nodes:\n",
    "        update_items = {\n",
    "            'is_adult': True,\n",
    "            'is_sozhit': False,\n",
    "            #nation,\n",
    "            #profession,\n",
    "            #obrazovaniye\n",
    "        }\n",
    "        if node[1]['ind_number'] in df_ind['idind'].tolist():\n",
    "            seriya_ind = df_ind.loc[(df_ind['idind']==node[1]['ind_number'])].squeeze()\n",
    "            \n",
    "            is_adult_value = seriya_ind['y_child']\n",
    "            is_adult = False if is_adult_value==1 else True\n",
    "            update_items['is_adult'] = is_adult\n",
    "            \n",
    "            is_sozhit_value = seriya_ind['y_marst']\n",
    "            is_sozhit = True if is_sozhit_value==3 else False\n",
    "            update_items['is_sozhit'] = is_sozhit\n",
    "\n",
    "            info_from_ind.append((node[0], update_items))\n",
    "    \n",
    "    return info_from_ind"
   ]
  },
  {
   "cell_type": "code",
   "execution_count": 74,
   "metadata": {},
   "outputs": [
    {
     "data": {
      "image/png": "[encoded data removed]",
      "text/plain": [
       "<Figure size 640x480 with 1 Axes>"
      ]
     },
     "metadata": {},
     "output_type": "display_data"
    }
   ],
   "source": [
    "for family_num in [random.randint(0, 4829) for ii in range(1)]:\n",
    "\n",
    "    seriya = df.iloc[family_num]\n",
    "\n",
    "    who_pass_form, family_members_num = family_meta_info(seriya)\n",
    "\n",
    "    nodes = create_nodes(seriya)\n",
    "    nodes_num = [node[0] for node in nodes]\n",
    "\n",
    "    edges = create_edges(seriya, nodes_num=nodes_num)\n",
    "\n",
    "    extended_edges = baboushka_edges(seriya, nodes_num, edges, max_chlenov_dh=20)\n",
    "\n",
    "    all_edges = edges + extended_edges\n",
    "\n",
    "    graph = form_graph(seriya)\n",
    "\n",
    "    nx.draw(form_graph(seriya))\n",
    "    \n",
    "    #time.sleep(2)"
   ]
  },
  {
   "cell_type": "code",
   "execution_count": 75,
   "metadata": {},
   "outputs": [
    {
     "data": {
      "text/plain": [
       "[(1, {'ind_number': 32528.0, 'pol': 'female', 'birth_year': 1953.0})]"
      ]
     },
     "execution_count": 75,
     "metadata": {},
     "output_type": "execute_result"
    }
   ],
   "source": [
    "nodes"
   ]
  },
  {
   "cell_type": "code",
   "execution_count": 76,
   "metadata": {},
   "outputs": [
    {
     "data": {
      "text/plain": [
       "[]"
      ]
     },
     "execution_count": 76,
     "metadata": {},
     "output_type": "execute_result"
    }
   ],
   "source": [
    "edges"
   ]
  },
  {
   "cell_type": "code",
   "execution_count": 82,
   "metadata": {},
   "outputs": [
    {
     "data": {
      "text/plain": [
       "[]"
      ]
     },
     "execution_count": 82,
     "metadata": {},
     "output_type": "execute_result"
    }
   ],
   "source": [
    "change_brak_to_sozhit(info_from_ind_for_one_node(nodes, df_ind), edges)"
   ]
  },
  {
   "cell_type": "code",
   "execution_count": null,
   "metadata": {},
   "outputs": [],
   "source": []
  }
 ],
 "metadata": {
  "kernelspec": {
   "display_name": "base",
   "language": "python",
   "name": "python3"
  },
  "language_info": {
   "codemirror_mode": {
    "name": "ipython",
    "version": 3
   },
   "file_extension": ".py",
   "mimetype": "text/x-python",
   "name": "python",
   "nbconvert_exporter": "python",
   "pygments_lexer": "ipython3",
   "version": "3.12.4"
  }
 },
 "nbformat": 4,
 "nbformat_minor": 2
}
